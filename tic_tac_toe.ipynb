{
  "nbformat": 4,
  "nbformat_minor": 0,
  "metadata": {
    "colab": {
      "provenance": []
    },
    "kernelspec": {
      "name": "python3",
      "display_name": "Python 3"
    },
    "language_info": {
      "name": "python"
    }
  },
  "cells": [
    {
      "cell_type": "code",
      "source": [
        "!pip install -r requeminents.txt"
      ],
      "metadata": {
        "id": "U0m9ETZzKzF7",
        "outputId": "aadcde97-f6d4-476a-87b9-b8433059a222",
        "colab": {
          "base_uri": "https://localhost:8080/"
        }
      },
      "execution_count": 1,
      "outputs": [
        {
          "output_type": "stream",
          "name": "stdout",
          "text": [
            "Requirement already satisfied: pytelegrambotapi in /usr/local/lib/python3.10/dist-packages (from -r requeminents.txt (line 1)) (4.14.0)\n",
            "Requirement already satisfied: requests in /usr/local/lib/python3.10/dist-packages (from pytelegrambotapi->-r requeminents.txt (line 1)) (2.31.0)\n",
            "Requirement already satisfied: charset-normalizer<4,>=2 in /usr/local/lib/python3.10/dist-packages (from requests->pytelegrambotapi->-r requeminents.txt (line 1)) (3.3.2)\n",
            "Requirement already satisfied: idna<4,>=2.5 in /usr/local/lib/python3.10/dist-packages (from requests->pytelegrambotapi->-r requeminents.txt (line 1)) (3.4)\n",
            "Requirement already satisfied: urllib3<3,>=1.21.1 in /usr/local/lib/python3.10/dist-packages (from requests->pytelegrambotapi->-r requeminents.txt (line 1)) (2.0.7)\n",
            "Requirement already satisfied: certifi>=2017.4.17 in /usr/local/lib/python3.10/dist-packages (from requests->pytelegrambotapi->-r requeminents.txt (line 1)) (2023.7.22)\n"
          ]
        }
      ]
    },
    {
      "cell_type": "code",
      "source": [
        "import telebot\n",
        "from telebot import types\n",
        "import logging\n",
        "import gc\n",
        "from game import *\n",
        "from model import *"
      ],
      "metadata": {
        "id": "CIkwKujIKZru"
      },
      "execution_count": 2,
      "outputs": []
    },
    {
      "cell_type": "code",
      "metadata": {
        "id": "UEOAf54-oCxT"
      },
      "source": [
        "def game_st(agent):\n",
        "  results = [agent.game_now() for i in range(10000)]\n",
        "  game_stats = {k: results.count(k)/100 for k in [\"X\", \"0\", '-']}\n",
        "  print(\"Статистика обучения: {}\".format(game_stats))\n",
        "\n",
        "def to_numb(x):\n",
        "  x = x.lower()\n",
        "  if len(x) != 2 or x[1].isalpha() or int(x[1]) > 3 :\n",
        "    return 10\n",
        "  if x[0] == \"a\":\n",
        "    return int(x[1]) - 1\n",
        "  if x[0] == \"b\":\n",
        "    return 2 + int(x[1])\n",
        "  if x[0] == \"c\":\n",
        "    return 5 + int(x[1])\n",
        "  return 10"
      ],
      "execution_count": 3,
      "outputs": []
    },
    {
      "cell_type": "code",
      "metadata": {
        "colab": {
          "base_uri": "https://localhost:8080/"
        },
        "id": "gBf5tydlIa8W",
        "outputId": "88644617-c986-40b7-b23f-4574fe47eca1"
      },
      "source": [
        "agent = Agent007(Crosses_zeros)\n",
        "print('Before:')\n",
        "game_st(agent)\n",
        "\n",
        "agent.learn(10000)\n",
        "print('After:')\n",
        "game_st(agent)"
      ],
      "execution_count": 4,
      "outputs": [
        {
          "output_type": "stream",
          "name": "stdout",
          "text": [
            "Before:\n",
            "Статистика обучения: {'X': 58.07, '0': 28.91, '-': 13.02}\n",
            "After:\n",
            "Статистика обучения: {'X': 1.86, '0': 0.61, '-': 97.53}\n"
          ]
        }
      ]
    },
    {
      "cell_type": "code",
      "metadata": {
        "id": "I-d8JaVLyVm5"
      },
      "source": [
        "player = dict()\n",
        "game = dict()\n",
        "\n",
        "\n",
        "bot = telebot.TeleBot('1818851136:AAHzS5ZKjx_GNfe5V_LhpdnB95lWlXW9E08')\n",
        "@bot.message_handler(content_types=['text'])\n",
        "def get_text_messages(message):\n",
        "  if message.text.lower() == \"привет\":\n",
        "    bot.send_message(message.from_user.id, \"Привет, хочешь поиграть?\")\n",
        "    bot.register_next_step_handler(message, continue_bot);\n",
        "  elif message.text == \"/help\":\n",
        "    bot.send_message(message.from_user.id, \"Напиши привет\")\n",
        "  else:\n",
        "    bot.send_message(message.from_user.id, \"Я тебя не понимаю. Напиши /help.\")\n",
        "\n",
        "def continue_bot(message):\n",
        "  if (message.text).lower() == 'да':\n",
        "    figure(message)\n",
        "  else:\n",
        "    bot.send_message(message.from_user.id, \"Тогда пока!\")\n",
        "\n",
        "def figure(message):\n",
        "      keyboard = types.InlineKeyboardMarkup(); #наша клавиатура\n",
        "      key_yes = types.InlineKeyboardButton(text='X', callback_data=\"1\"); #кнопка «Да»\n",
        "      keyboard.add(key_yes); #добавляем кнопку в клавиатуру\n",
        "      key_yes2 = types.InlineKeyboardButton(text='0', callback_data=\"0\");\n",
        "      keyboard.add(key_yes2);\n",
        "      question = 'Что ты выберешь?';\n",
        "      bot.send_message(message.from_user.id, text=question, reply_markup=keyboard)\n",
        "\n",
        "@bot.callback_query_handler(func=lambda call: True)\n",
        "def callback_worker(call):\n",
        "    bot.send_message(call.message.chat.id, 'Хороший выбор! Если хочешь, чтобы я тебя понял, свой ход делай с помощью команд: a1, a2, a3, b1, b2, b3, c1, c2, c3, где a, b, c - строки, а 1, 2, 3 - столбцы ')\n",
        "    global player, game\n",
        "    game[call.message.chat.id] = Crosses_zeros()\n",
        "    player[call.message.chat.id] = int(call.data)\n",
        "    if  player[call.message.chat.id] == 0:\n",
        "        game[call.message.chat.id].do_action(agent.select_action_for_interactive_game(game[call.message.chat.id], 1))\n",
        "        bot.send_message(call.message.chat.id, game[call.message.chat.id].table_to_string(), parse_mode=\"HTML\")\n",
        "    bot.register_next_step_handler(call.message, agent_play);\n",
        "\n",
        "def agent_play(message):\n",
        "    global player, game\n",
        "    now = to_numb(message.text)\n",
        "    table = game[message.chat.id].table\n",
        "    if now < 0 or now > 8 or table[now] != 1337:\n",
        "      bot.reply_to(message, \"Некорректный ход\")\n",
        "    else:\n",
        "      table[now] = player[message.chat.id]\n",
        "      game[message.chat.id].do_action(table)\n",
        "      if game[message.chat.id].playable():\n",
        "        game[message.chat.id].do_action(agent.select_action_for_interactive_game(game[message.chat.id], 1 - player[message.chat.id]))\n",
        "      bot.send_message(message.chat.id, game[message.chat.id].table_to_string(), parse_mode=\"HTML\")\n",
        "    if game[message.chat.id].playable():\n",
        "      bot.register_next_step_handler(message, agent_play)\n",
        "    else:\n",
        "      if game[message.chat.id].check_winner() == 'X':\n",
        "        bot.send_message(message.chat.id, 'Выиграл X!!!', parse_mode=\"HTML\")\n",
        "      elif game[message.chat.id].check_winner() == '0':\n",
        "        bot.send_message(message.chat.id, 'Выиграл 0!!!', parse_mode=\"HTML\")\n",
        "      else:\n",
        "        bot.send_message(message.chat.id, 'Ничья!!!', parse_mode=\"HTML\")\n",
        "\n",
        "\n",
        "bot.polling(none_stop=True, interval=0)\n"
      ],
      "execution_count": 5,
      "outputs": []
    },
    {
      "cell_type": "code",
      "metadata": {
        "id": "yvA8DZXlAfO_"
      },
      "source": [],
      "execution_count": 5,
      "outputs": []
    }
  ]
}