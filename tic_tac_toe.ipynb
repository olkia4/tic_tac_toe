{
  "cells": [
    {
      "cell_type": "code",
      "execution_count": 1,
      "metadata": {
        "colab": {
          "base_uri": "https://localhost:8080/"
        },
        "id": "U0m9ETZzKzF7",
        "outputId": "aadcde97-f6d4-476a-87b9-b8433059a222"
      },
      "outputs": [
        {
          "name": "stdout",
          "output_type": "stream",
          "text": [
            "Defaulting to user installation because normal site-packages is not writeable\n",
            "Collecting pytelegrambotapi\n",
            "  Downloading pyTelegramBotAPI-4.14.0.tar.gz (243 kB)\n",
            "\u001b[2K     \u001b[90m━━━━━━━━━━━━━━━━━━━━━━━━━━━━━━━━━━━━━━━\u001b[0m \u001b[32m243.1/243.1 KB\u001b[0m \u001b[31m1.9 MB/s\u001b[0m eta \u001b[36m0:00:00\u001b[0ma \u001b[36m0:00:01\u001b[0m\n",
            "\u001b[?25h  Preparing metadata (setup.py) ... \u001b[?25ldone\n",
            "\u001b[?25hRequirement already satisfied: requests in /home/dmitriy/.local/lib/python3.10/site-packages (from pytelegrambotapi->-r requeminents.txt (line 1)) (2.30.0)\n",
            "Requirement already satisfied: idna<4,>=2.5 in /usr/lib/python3/dist-packages (from requests->pytelegrambotapi->-r requeminents.txt (line 1)) (3.3)\n",
            "Requirement already satisfied: charset-normalizer<4,>=2 in /home/dmitriy/.local/lib/python3.10/site-packages (from requests->pytelegrambotapi->-r requeminents.txt (line 1)) (3.1.0)\n",
            "Requirement already satisfied: certifi>=2017.4.17 in /usr/lib/python3/dist-packages (from requests->pytelegrambotapi->-r requeminents.txt (line 1)) (2020.6.20)\n",
            "Requirement already satisfied: urllib3<3,>=1.21.1 in /usr/lib/python3/dist-packages (from requests->pytelegrambotapi->-r requeminents.txt (line 1)) (1.26.5)\n",
            "Building wheels for collected packages: pytelegrambotapi\n",
            "  Building wheel for pytelegrambotapi (setup.py) ... \u001b[?25ldone\n",
            "\u001b[?25h  Created wheel for pytelegrambotapi: filename=pyTelegramBotAPI-4.14.0-py3-none-any.whl size=215267 sha256=9c970b60d15ba1f426c27aa919a3de5b3f884514ea8cb9f2751f0cf2a99e572d\n",
            "  Stored in directory: /home/dmitriy/.cache/pip/wheels/25/51/2d/24b40a366c85c37928d5aa36ddf257e5a79fad25e1ecd11b2c\n",
            "Successfully built pytelegrambotapi\n",
            "Installing collected packages: pytelegrambotapi\n",
            "Successfully installed pytelegrambotapi-4.14.0\n"
          ]
        }
      ],
      "source": [
        "!pip install -r requeminents.txt"
      ]
    },
    {
      "cell_type": "code",
      "execution_count": 2,
      "metadata": {
        "id": "CIkwKujIKZru"
      },
      "outputs": [],
      "source": [
        "import telebot\n",
        "from telebot import types\n",
        "import logging\n",
        "import gc\n",
        "from game import *\n",
        "from model import *"
      ]
    },
    {
      "cell_type": "code",
      "execution_count": 37,
      "metadata": {
        "id": "UEOAf54-oCxT"
      },
      "outputs": [],
      "source": [
        "def game_st(agent):\n",
        "  results = [agent.game_now() for i in range(10000)]\n",
        "  game_stats = {k: results.count(k)/100 for k in [\"X\", \"0\", '-']}\n",
        "  print(\"Статистика обучения: {}\".format(game_stats))\n",
        "\n",
        "def to_numb(x):\n",
        "  x = x.lower()\n",
        "  if len(x) != 2 or x[1].isalpha() or int(x[1]) > 3 :\n",
        "    return 10\n",
        "  if x[0] == \"a\":\n",
        "    return int(x[1]) - 1\n",
        "  if x[0] == \"b\":\n",
        "    return 2 + int(x[1])\n",
        "  if x[0] == \"c\":\n",
        "    return 5 + int(x[1])\n",
        "  return 10"
      ]
    },
    {
      "cell_type": "code",
      "execution_count": 6,
      "metadata": {
        "colab": {
          "base_uri": "https://localhost:8080/"
        },
        "id": "gBf5tydlIa8W",
        "outputId": "88644617-c986-40b7-b23f-4574fe47eca1"
      },
      "outputs": [
        {
          "name": "stdout",
          "output_type": "stream",
          "text": [
            "Before:\n",
            "Статистика обучения: {'X': 58.39, '0': 28.95, '-': 12.66}\n",
            "After:\n",
            "Статистика обучения: {'X': 0.0, '0': 0.0, '-': 100.0}\n"
          ]
        }
      ],
      "source": [
        "agent = Agent007(Crosses_zeros)\n",
        "print('Before:')\n",
        "game_st(agent)\n",
        "\n",
        "agent.learn(100000)\n",
        "print('After:')\n",
        "game_st(agent)"
      ]
    },
    {
      "cell_type": "code",
      "execution_count": 39,
      "metadata": {
        "id": "I-d8JaVLyVm5"
      },
      "outputs": [],
      "source": [
        "player = dict()\n",
        "game = dict()\n",
        "\n",
        "def generate_buttoms(table):\n",
        "   rows = ['a', 'b', 'c']\n",
        "   keyboard = types.InlineKeyboardMarkup()\n",
        "   for now in range(9):\n",
        "      if table[now] == 1337:\n",
        "         value = rows[now // 3] + str(now % 3 + 1)\n",
        "         button = types.InlineKeyboardButton(text=value, callback_data=value)\n",
        "         keyboard.add(button)\n",
        "        \n",
        "   return keyboard\n",
        "\n",
        "\n",
        "bot = telebot.TeleBot('1818851136:AAHzS5ZKjx_GNfe5V_LhpdnB95lWlXW9E08')\n",
        "@bot.message_handler(content_types=['text'])\n",
        "def get_text_messages(message):\n",
        "  if message.text.lower() == \"привет\":\n",
        "    bot.send_message(message.from_user.id, \"Привет, хочешь поиграть?\")\n",
        "    bot.register_next_step_handler_by_chat_id(message.chat.id, continue_bot)\n",
        "  elif message.text == \"/help\":\n",
        "    bot.send_message(message.from_user.id, \"Напиши привет\")\n",
        "  else:\n",
        "    bot.send_message(message.from_user.id, \"Я тебя не понимаю. Напиши /help.\")\n",
        "\n",
        "def continue_bot(message):\n",
        "  if (message.text).lower() == 'да':\n",
        "    figure(message)\n",
        "  else:\n",
        "    bot.send_message(message.from_user.id, \"Тогда пока!\")\n",
        "\n",
        "def figure(message):\n",
        "      keyboard = types.InlineKeyboardMarkup() #наша клавиатура\n",
        "      key_yes = types.InlineKeyboardButton(text='X', callback_data=\"1\") #кнопка «Да»\n",
        "      keyboard.add(key_yes) #добавляем кнопку в клавиатуру\n",
        "      key_yes2 = types.InlineKeyboardButton(text='0', callback_data=\"0\")\n",
        "      keyboard.add(key_yes2)\n",
        "      question = 'Что ты выберешь?'\n",
        "      bot.send_message(message.from_user.id, text=question, reply_markup=keyboard)\n",
        "\n",
        "@bot.callback_query_handler(func=lambda call: True)\n",
        "def callback_worker(call):\n",
        "    if len(call.data) == 2:\n",
        "       call.message.text = call.data\n",
        "       agent_play(call.message)\n",
        "       return\n",
        "    if len(call.data) != 1:\n",
        "       bot.reply_to(call.message, \"Некорректный ход\")\n",
        "    bot.send_message(call.message.chat.id, 'Хороший выбор! Если хочешь, чтобы я тебя понял, свой ход делай с помощью команд: a1, a2, a3, b1, b2, b3, c1, c2, c3, где a, b, c - строки, а 1, 2, 3 - столбцы ')\n",
        "    global player, game\n",
        "    game[call.message.chat.id] = Crosses_zeros()\n",
        "    player[call.message.chat.id] = int(call.data)\n",
        "    if  player[call.message.chat.id] == 0:\n",
        "        game[call.message.chat.id].do_action(agent.select_action_for_interactive_game(game[call.message.chat.id], 1))\n",
        "        bot.send_message(call.message.chat.id, game[call.message.chat.id].table_to_string(), parse_mode=\"HTML\")\n",
        "    \n",
        "    keyboard = generate_buttoms(game[call.message.chat.id].table)\n",
        "    question = \"Выбери свой путь\"\n",
        "    bot.send_message(call.message.chat.id, text=question, reply_markup=keyboard)\n",
        "    bot.register_next_step_handler_by_chat_id(call.message.chat.id, agent_play)\n",
        "\n",
        "def agent_play(message):\n",
        "    global player, game\n",
        "    now = to_numb(message.text)\n",
        "    table = game[message.chat.id].table\n",
        "    if now < 0 or now > 8 or table[now] != 1337:\n",
        "      bot.reply_to(message, \"Некорректный ход\")\n",
        "    else:\n",
        "      table[now] = player[message.chat.id]\n",
        "      game[message.chat.id].do_action(table)\n",
        "      if game[message.chat.id].playable():\n",
        "        game[message.chat.id].do_action(agent.select_action_for_interactive_game(game[message.chat.id], 1 - player[message.chat.id]))\n",
        "      bot.send_message(message.chat.id, game[message.chat.id].table_to_string(), parse_mode=\"HTML\")\n",
        "    if game[message.chat.id].playable():\n",
        "      keyboard = generate_buttoms(game[message.chat.id].table)\n",
        "      question = \"Выбери свой путь\"\n",
        "      bot.send_message(message.chat.id, text=question, reply_markup=keyboard)\n",
        "      bot.register_next_step_handler_by_chat_id(message.chat.id, agent_play)\n",
        "    else:\n",
        "      if game[message.chat.id].check_winner() == 'X':\n",
        "        bot.send_message(message.chat.id, 'Выиграл X!!!', parse_mode=\"HTML\")\n",
        "      elif game[message.chat.id].check_winner() == '0':\n",
        "        bot.send_message(message.chat.id, 'Выиграл 0!!!', parse_mode=\"HTML\")\n",
        "      else:\n",
        "        bot.send_message(message.chat.id, 'Ничья!!!', parse_mode=\"HTML\")\n",
        "      bot.clear_step_handler_by_chat_id(message.chat.id)\n",
        "\n",
        "\n",
        "bot.polling(none_stop=True, interval=0)\n"
      ]
    },
    {
      "cell_type": "code",
      "execution_count": 5,
      "metadata": {
        "id": "yvA8DZXlAfO_"
      },
      "outputs": [],
      "source": []
    }
  ],
  "metadata": {
    "colab": {
      "provenance": []
    },
    "kernelspec": {
      "display_name": "Python 3",
      "name": "python3"
    },
    "language_info": {
      "codemirror_mode": {
        "name": "ipython",
        "version": 3
      },
      "file_extension": ".py",
      "mimetype": "text/x-python",
      "name": "python",
      "nbconvert_exporter": "python",
      "pygments_lexer": "ipython3",
      "version": "3.10.12"
    }
  },
  "nbformat": 4,
  "nbformat_minor": 0
}
